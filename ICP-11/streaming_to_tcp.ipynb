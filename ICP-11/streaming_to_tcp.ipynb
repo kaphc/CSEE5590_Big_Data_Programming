{
 "cells": [
  {
   "cell_type": "code",
   "execution_count": 1,
   "metadata": {},
   "outputs": [],
   "source": [
    "import socket\n",
    "import json\n",
    "import pickle\n",
    "from random import randint\n",
    "import time"
   ]
  },
  {
   "cell_type": "code",
   "execution_count": 4,
   "metadata": {},
   "outputs": [
    {
     "name": "stdout",
     "output_type": "stream",
     "text": [
      "Listening on the port: 5555\n"
     ]
    }
   ],
   "source": [
    "a = 1\n",
    "s = socket.socket(socket.AF_INET, socket.SOCK_STREAM)\n",
    "host = \"127.0.0.1\"\n",
    "port = 5555\n",
    "s.bind((host, port))\n",
    "s.listen(5)\n",
    "print(\"Listening on the port: %s\" % str(port))\n",
    "path = \"C:/Users/kaphc/OneDrive/Documents/GitHub/CSEE5590_Big_Data_Programming/ICP-11\""
   ]
  },
  {
   "cell_type": "code",
   "execution_count": null,
   "metadata": {},
   "outputs": [],
   "source": [
    "with open(path + \"lorem.txt.txt\", \"r\") as file:\n",
    "    lines = file.readlines()\n",
    "    while a <= 30:\n",
    "        totalline = len(lines)\n",
    "        linenumber = randint(0, totalline - 10)\n",
    "        c, addr = s.accept()\n",
    "        c.send(' '.join(line for line in lines[linenumber:totalline]).encode('utf-8'))\n",
    "        c.close()\n",
    "        print(' '.join(line for line in lines[linenumber:totalline]).encode('utf-8'))\n",
    "        a += 1"
   ]
  }
 ],
 "metadata": {
  "kernelspec": {
   "display_name": "Python 3",
   "language": "python",
   "name": "python3"
  },
  "language_info": {
   "codemirror_mode": {
    "name": "ipython",
    "version": 3
   },
   "file_extension": ".py",
   "mimetype": "text/x-python",
   "name": "python",
   "nbconvert_exporter": "python",
   "pygments_lexer": "ipython3",
   "version": "3.7.5"
  }
 },
 "nbformat": 4,
 "nbformat_minor": 2
}
