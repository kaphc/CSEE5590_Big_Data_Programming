{
 "cells": [
  {
   "cell_type": "code",
   "execution_count": 1,
   "metadata": {},
   "outputs": [],
   "source": [
    "from pyspark.sql import SparkSession\n",
    "from pyspark.sql import *\n",
    "from pyspark.sql.types import DoubleType"
   ]
  },
  {
   "cell_type": "code",
   "execution_count": 2,
   "metadata": {},
   "outputs": [],
   "source": [
    "spark = SparkSession \\\n",
    "    .builder \\\n",
    "    .appName(\"Python Spark SQL basic example\") \\\n",
    "    .config(\"spark.some.config.option\", \"some-value\") \\\n",
    "    .getOrCreate()"
   ]
  },
  {
   "cell_type": "code",
   "execution_count": 3,
   "metadata": {},
   "outputs": [
    {
     "name": "stdout",
     "output_type": "stream",
     "text": [
      "+----+--------------------+-----------------+--------------------+-----------+--------------+---------------+---------------+--------------+--------------------+----------+--------------------+--------------------+--------------------+--------------------+--------------------+-------+-------+------------------+------------------+\n",
      "|Year|            Datetime|            Stage|             Stadium|       City|Home Team Name|Home Team Goals|Away Team Goals|Away Team Name|      Win conditions|Attendance|Half-time Home Goals|Half-time Away Goals|             Referee|         Assistant 1|         Assistant 2|RoundID|MatchID|Home Team Initials|Away Team Initials|\n",
      "+----+--------------------+-----------------+--------------------+-----------+--------------+---------------+---------------+--------------+--------------------+----------+--------------------+--------------------+--------------------+--------------------+--------------------+-------+-------+------------------+------------------+\n",
      "|1930|13 Jul 1930 - 15:00 |          Group 1|             Pocitos|Montevideo |        France|              4|              1|        Mexico|                    |      4444|                   3|                   0|LOMBARDI Domingo ...|CRISTOPHE Henry (...| REGO Gilberto (BRA)|    201|   1096|               FRA|               MEX|\n",
      "|1930|13 Jul 1930 - 15:00 |          Group 4|      Parque Central|Montevideo |           USA|              3|              0|       Belgium|                    |     18346|                   2|                   0|   MACIAS Jose (ARG)|MATEUCCI Francisc...|WARNKEN Alberto (...|    201|   1090|               USA|               BEL|\n",
      "|1930|14 Jul 1930 - 12:45 |          Group 2|      Parque Central|Montevideo |    Yugoslavia|              2|              1|        Brazil|                    |     24059|                   2|                   0| TEJADA Anibal (URU)|VALLARINO Ricardo...| BALWAY Thomas (FRA)|    201|   1093|               YUG|               BRA|\n",
      "|1930|14 Jul 1930 - 14:50 |          Group 3|             Pocitos|Montevideo |       Romania|              3|              1|          Peru|                    |      2549|                   1|                   0|WARNKEN Alberto (...| LANGENUS Jean (BEL)|MATEUCCI Francisc...|    201|   1098|               ROU|               PER|\n",
      "|1930|15 Jul 1930 - 16:00 |          Group 1|      Parque Central|Montevideo |     Argentina|              1|              0|        France|                    |     23409|                   0|                   0| REGO Gilberto (BRA)|SAUCEDO Ulises (BOL)|RADULESCU Constan...|    201|   1085|               ARG|               FRA|\n",
      "|1930|16 Jul 1930 - 14:45 |          Group 1|      Parque Central|Montevideo |         Chile|              3|              0|        Mexico|                    |      9249|                   1|                   0|CRISTOPHE Henry (...|APHESTEGUY Martin...| LANGENUS Jean (BEL)|    201|   1095|               CHI|               MEX|\n",
      "|1930|17 Jul 1930 - 12:45 |          Group 2|      Parque Central|Montevideo |    Yugoslavia|              4|              0|       Bolivia|                    |     18306|                   0|                   0|MATEUCCI Francisc...|LOMBARDI Domingo ...|WARNKEN Alberto (...|    201|   1092|               YUG|               BOL|\n",
      "|1930|17 Jul 1930 - 14:45 |          Group 4|      Parque Central|Montevideo |           USA|              3|              0|      Paraguay|                    |     18306|                   2|                   0|   MACIAS Jose (ARG)|APHESTEGUY Martin...| TEJADA Anibal (URU)|    201|   1097|               USA|               PAR|\n",
      "|1930|18 Jul 1930 - 14:30 |          Group 3|  Estadio Centenario|Montevideo |       Uruguay|              1|              0|          Peru|                    |     57735|                   0|                   0| LANGENUS Jean (BEL)| BALWAY Thomas (FRA)|CRISTOPHE Henry (...|    201|   1099|               URU|               PER|\n",
      "|1930|19 Jul 1930 - 12:50 |          Group 1|  Estadio Centenario|Montevideo |         Chile|              1|              0|        France|                    |      2000|                   0|                   0| TEJADA Anibal (URU)|LOMBARDI Domingo ...| REGO Gilberto (BRA)|    201|   1094|               CHI|               FRA|\n",
      "|1930|19 Jul 1930 - 15:00 |          Group 1|  Estadio Centenario|Montevideo |     Argentina|              6|              3|        Mexico|                    |     42100|                   3|                   1|SAUCEDO Ulises (BOL)|ALONSO Gualberto ...|RADULESCU Constan...|    201|   1086|               ARG|               MEX|\n",
      "|1930|20 Jul 1930 - 13:00 |          Group 2|  Estadio Centenario|Montevideo |        Brazil|              4|              0|       Bolivia|                    |     25466|                   1|                   0| BALWAY Thomas (FRA)|MATEUCCI Francisc...|VALLEJO Gaspar (MEX)|    201|   1091|               BRA|               BOL|\n",
      "|1930|20 Jul 1930 - 15:00 |          Group 4|  Estadio Centenario|Montevideo |      Paraguay|              1|              0|       Belgium|                    |     12000|                   1|                   0|VALLARINO Ricardo...|   MACIAS Jose (ARG)|LOMBARDI Domingo ...|    201|   1089|               PAR|               BEL|\n",
      "|1930|21 Jul 1930 - 14:50 |          Group 3|  Estadio Centenario|Montevideo |       Uruguay|              4|              0|       Romania|                    |     70022|                   4|                   0| REGO Gilberto (BRA)|WARNKEN Alberto (...|SAUCEDO Ulises (BOL)|    201|   1100|               URU|               ROU|\n",
      "|1930|22 Jul 1930 - 14:45 |          Group 1|  Estadio Centenario|Montevideo |     Argentina|              3|              1|         Chile|                    |     41459|                   2|                   1| LANGENUS Jean (BEL)|CRISTOPHE Henry (...|SAUCEDO Ulises (BOL)|    201|   1084|               ARG|               CHI|\n",
      "|1930|26 Jul 1930 - 14:45 |      Semi-finals|  Estadio Centenario|Montevideo |     Argentina|              6|              1|           USA|                    |     72886|                   1|                   0| LANGENUS Jean (BEL)|VALLEJO Gaspar (MEX)|WARNKEN Alberto (...|    202|   1088|               ARG|               USA|\n",
      "|1930|27 Jul 1930 - 14:45 |      Semi-finals|  Estadio Centenario|Montevideo |       Uruguay|              6|              1|    Yugoslavia|                    |     79867|                   3|                   1| REGO Gilberto (BRA)|SAUCEDO Ulises (BOL)| BALWAY Thomas (FRA)|    202|   1101|               URU|               YUG|\n",
      "|1930|30 Jul 1930 - 14:15 |            Final|  Estadio Centenario|Montevideo |       Uruguay|              4|              2|     Argentina|                    |     68346|                   1|                   2| LANGENUS Jean (BEL)|SAUCEDO Ulises (BOL)|CRISTOPHE Henry (...|    405|   1087|               URU|               ARG|\n",
      "|1934|27 May 1934 - 16:30 |Preliminary round|Stadio Benito Mus...|     Turin |       Austria|              3|              2|        France|Austria win after...|     16000|                   0|                   0|VAN MOORSEL Johan...|CAIRONI Camillo (...|   BAERT Louis (BEL)|    204|   1104|               AUT|               FRA|\n",
      "|1934|27 May 1934 - 16:30 |Preliminary round|   Giorgio Ascarelli|    Naples |       Hungary|              4|              2|         Egypt|                    |      9000|                   2|                   2|BARLASSINA Rinald...|DATTILO Generoso ...|  SASSI Otello (ITA)|    204|   1119|               HUN|               EGY|\n",
      "+----+--------------------+-----------------+--------------------+-----------+--------------+---------------+---------------+--------------+--------------------+----------+--------------------+--------------------+--------------------+--------------------+--------------------+-------+-------+------------------+------------------+\n",
      "only showing top 20 rows\n",
      "\n",
      "StructType(List(StructField(Year,StringType,true),StructField(Datetime,StringType,true),StructField(Stage,StringType,true),StructField(Stadium,StringType,true),StructField(City,StringType,true),StructField(Home Team Name,StringType,true),StructField(Home Team Goals,StringType,true),StructField(Away Team Goals,StringType,true),StructField(Away Team Name,StringType,true),StructField(Win conditions,StringType,true),StructField(Attendance,StringType,true),StructField(Half-time Home Goals,StringType,true),StructField(Half-time Away Goals,StringType,true),StructField(Referee,StringType,true),StructField(Assistant 1,StringType,true),StructField(Assistant 2,StringType,true),StructField(RoundID,StringType,true),StructField(MatchID,StringType,true),StructField(Home Team Initials,StringType,true),StructField(Away Team Initials,StringType,true)))\n"
     ]
    }
   ],
   "source": [
    "df = spark.read.csv(\"WorldCupMatches.csv\",header=True);\n",
    "df.show()\n",
    "print(df.schema)"
   ]
  },
  {
   "cell_type": "code",
   "execution_count": 4,
   "metadata": {},
   "outputs": [
    {
     "data": {
      "text/plain": [
       "['Year',\n",
       " 'Datetime',\n",
       " 'Stage',\n",
       " 'Stadium',\n",
       " 'City',\n",
       " 'Home Team Name',\n",
       " 'Home Team Goals',\n",
       " 'Away Team Goals',\n",
       " 'Away Team Name',\n",
       " 'Win conditions',\n",
       " 'Attendance',\n",
       " 'Half-time Home Goals',\n",
       " 'Half-time Away Goals',\n",
       " 'Referee',\n",
       " 'Assistant 1',\n",
       " 'Assistant 2',\n",
       " 'RoundID',\n",
       " 'MatchID',\n",
       " 'Home Team Initials',\n",
       " 'Away Team Initials']"
      ]
     },
     "execution_count": 4,
     "metadata": {},
     "output_type": "execute_result"
    }
   ],
   "source": [
    "df.columns"
   ]
  },
  {
   "cell_type": "code",
   "execution_count": 34,
   "metadata": {},
   "outputs": [],
   "source": [
    "df=df.withColumnRenamed('Home Team Name', 'Home_Team')\n",
    "df=df.withColumnRenamed('Away Team Name', 'Away_Team')\n",
    "df=df.withColumnRenamed('Away Team Goals', 'Away_Team_Goals')\n",
    "df=df.withColumnRenamed('Home Team Goals', 'Home_Team_Goals')\n",
    "df=df.withColumnRenamed('Assistant 1', 'Assistant_1')\n",
    "df=df.withColumnRenamed('Assistant 2', 'Assistant_2')\n",
    "df=df.withColumnRenamed('Home Team Initials', 'Home_Team_Initials')\n",
    "df=df.withColumnRenamed('Away Team Initials', 'Away_Team_Initials')\n",
    "df=df.withColumnRenamed('Half-time Home Goals', 'Half-time_Home_Goals')\n",
    "df=df.withColumnRenamed('Half-time Away Goals', 'Half-time_Away_Goals')"
   ]
  },
  {
   "cell_type": "code",
   "execution_count": 35,
   "metadata": {},
   "outputs": [
    {
     "data": {
      "text/plain": [
       "['Year',\n",
       " 'Datetime',\n",
       " 'Stage',\n",
       " 'Stadium',\n",
       " 'City',\n",
       " 'Home_Team',\n",
       " 'Home_Team_Goals',\n",
       " 'Away_Team_Goals',\n",
       " 'Away_Team',\n",
       " 'Win conditions',\n",
       " 'Attendance',\n",
       " 'Half-time_Home_Goals',\n",
       " 'Half-time_Away_Goals',\n",
       " 'Referee',\n",
       " 'Assistant_1',\n",
       " 'Assistant_2',\n",
       " 'RoundID',\n",
       " 'MatchID',\n",
       " 'Home_Team_Initials',\n",
       " 'Away_Team_Initials']"
      ]
     },
     "execution_count": 35,
     "metadata": {},
     "output_type": "execute_result"
    }
   ],
   "source": [
    "df.columns"
   ]
  },
  {
   "cell_type": "code",
   "execution_count": 36,
   "metadata": {},
   "outputs": [],
   "source": [
    "df=df.withColumn('Away_Team_Goals',df['Away_Team_Goals'].cast(DoubleType()))\n",
    "df=df.withColumn('Home_Team_Goals',df['Home_Team_Goals'].cast(DoubleType()))\n",
    "df=df.withColumn('Attendance',df['Attendance'].cast(DoubleType()))\n",
    "df=df.withColumn('Home_Team_Goals',df['Home_Team_Goals'].cast(DoubleType()))\n",
    "df=df.withColumn('Away_Team_Goals',df['Away_Team_Goals'].cast(DoubleType()))"
   ]
  },
  {
   "cell_type": "code",
   "execution_count": 37,
   "metadata": {},
   "outputs": [
    {
     "name": "stdout",
     "output_type": "stream",
     "text": [
      "+-------+------------------+\n",
      "|summary|              Year|\n",
      "+-------+------------------+\n",
      "|  count|               852|\n",
      "|   mean|1985.0892018779343|\n",
      "| stddev|22.448824702021138|\n",
      "|    min|              1930|\n",
      "|    max|              2014|\n",
      "+-------+------------------+\n",
      "\n"
     ]
    }
   ],
   "source": [
    "df.describe(['Year']).show()"
   ]
  },
  {
   "cell_type": "code",
   "execution_count": 38,
   "metadata": {},
   "outputs": [
    {
     "data": {
      "text/plain": [
       "1"
      ]
     },
     "execution_count": 38,
     "metadata": {},
     "output_type": "execute_result"
    }
   ],
   "source": [
    "df.filter((df.Stage.like(\"Final\") | df.Stage.like(\"Semi-finals\")) & (df.Away_Team == 'Czechoslovakia') & (df.Home_Team == 'Italy')).count()"
   ]
  },
  {
   "cell_type": "code",
   "execution_count": 39,
   "metadata": {},
   "outputs": [
    {
     "name": "stdout",
     "output_type": "stream",
     "text": [
      "+----+--------------------+-------+------------------+---------------+-------------+---------------+---------------+-----------+--------------+----------+--------------------+--------------------+--------------------+--------------------+--------------------+-------+---------+------------------+------------------+\n",
      "|Year|            Datetime|  Stage|           Stadium|           City|    Home_Team|Home_Team_Goals|Away_Team_Goals|  Away_Team|Win conditions|Attendance|Half-time_Home_Goals|Half-time_Away_Goals|             Referee|         Assistant_1|         Assistant_2|RoundID|  MatchID|Home_Team_Initials|Away_Team_Initials|\n",
      "+----+--------------------+-------+------------------+---------------+-------------+---------------+---------------+-----------+--------------+----------+--------------------+--------------------+--------------------+--------------------+--------------------+-------+---------+------------------+------------------+\n",
      "|2014|12 Jun 2014 - 17:00 |Group A|Arena de Sao Paulo|     Sao Paulo |       Brazil|            3.0|            1.0|    Croatia|              |   62103.0|                   1|                   1|NISHIMURA Yuichi ...|   SAGARA Toru (JPN)|NAGI Toshiyuki (JPN)| 255931|300186456|               BRA|               CRO|\n",
      "|2014|13 Jun 2014 - 13:00 |Group A| Estadio das Dunas|         Natal |       Mexico|            1.0|            0.0|   Cameroon|              |   39216.0|                   0|                   0| ROLDAN Wilmar (COL)|CLAVIJO Humberto ...|  DIAZ Eduardo (COL)| 255931|300186492|               MEX|               CMR|\n",
      "|2014|13 Jun 2014 - 16:00 |Group B|  Arena Fonte Nova|      Salvador |        Spain|            1.0|            5.0|Netherlands|              |   48173.0|                   1|                   1|Nicola RIZZOLI (ITA)|Renato FAVERANI (...|Andrea STEFANI (ITA)| 255931|300186510|               ESP|               NED|\n",
      "|2014|13 Jun 2014 - 18:00 |Group B|    Arena Pantanal|        Cuiaba |        Chile|            3.0|            1.0|  Australia|              |   40275.0|                   2|                   1|Noumandiez DOUE (...|YEO Songuifolo (CIV)|BIRUMUSHAHU Jean ...| 255931|300186473|               CHI|               AUS|\n",
      "|2014|14 Jun 2014 - 13:00 |Group C|  Estadio Mineirao|Belo Horizonte |     Colombia|            3.0|            0.0|     Greece|              |   57174.0|                   1|                   0|   GEIGER Mark (USA)|     HURD Sean (USA)|  FLETCHER Joe (CAN)| 255931|300186471|               COL|               GRE|\n",
      "|2014|14 Jun 2014 - 16:00 |Group D|  Estadio Castelao|     Fortaleza |      Uruguay|            1.0|            3.0| Costa Rica|              |   58679.0|                   1|                   0|   BRYCH Felix (GER)|   BORSCH Mark (GER)|   LUPP Stefan (GER)| 255931|300186489|               URU|               CRC|\n",
      "|2014|14 Jun 2014 - 18:00 |Group D|    Arena Amazonia|        Manaus |      England|            1.0|            2.0|      Italy|              |   39800.0|                   1|                   1| Bj�rn KUIPERS (NED)|Sander VAN ROEKEL...|Erwin ZEINSTRA (NED)| 255931|300186513|               ENG|               ITA|\n",
      "|2014|14 Jun 2014 - 22:00 |Group C|  Arena Pernambuco|        Recife |C�te d'Ivoire|            2.0|            1.0|      Japan|              |   40267.0|                   0|                   1| OSSES Enrique (CHI)|ASTROZA Carlos (CHI)|  ROMAN Sergio (CHI)| 255931|300186507|               CIV|               JPN|\n",
      "|2014|15 Jun 2014 - 13:00 |Group E|  Estadio Nacional|      Brasilia |  Switzerland|            2.0|            1.0|    Ecuador|              |   68351.0|                   0|                   1|Ravshan IRMATOV (...|RASULOV Abduxamid...|KOCHKAROV Bakhady...| 255931|300186494|               SUI|               ECU|\n",
      "|2014|15 Jun 2014 - 16:00 |Group E| Estadio Beira-Rio|  Porto Alegre |       France|            3.0|            0.0|   Honduras|              |   43012.0|                   1|                   0|  RICCI Sandro (BRA)|DE CARVALHO Emers...|VAN GASSE Marcelo...| 255931|300186496|               FRA|               HON|\n",
      "+----+--------------------+-------+------------------+---------------+-------------+---------------+---------------+-----------+--------------+----------+--------------------+--------------------+--------------------+--------------------+--------------------+-------+---------+------------------+------------------+\n",
      "only showing top 10 rows\n",
      "\n"
     ]
    }
   ],
   "source": [
    "df.filter(df.Year.like(\"2014\") | df.Year.like(\"2013\")).show(10)"
   ]
  },
  {
   "cell_type": "code",
   "execution_count": 40,
   "metadata": {},
   "outputs": [
    {
     "name": "stdout",
     "output_type": "stream",
     "text": [
      "Matches in 2014 and 2013 : 80\n"
     ]
    }
   ],
   "source": [
    "print(\"Matches in 2014 and 2013 : \" + str(df.filter(df.Year.like(\"2014\") | df.Year.like(\"2013\")).count()))"
   ]
  },
  {
   "cell_type": "code",
   "execution_count": 41,
   "metadata": {},
   "outputs": [
    {
     "name": "stdout",
     "output_type": "stream",
     "text": [
      "+------------------+-----+\n",
      "|              City|count|\n",
      "+------------------+-----+\n",
      "|            Daegu |    4|\n",
      "|            Paris |    9|\n",
      "|            Natal |    4|\n",
      "|    San Francisco |    6|\n",
      "|Santiago De Chile |   10|\n",
      "|       Eskilstuna |    1|\n",
      "|        La Coru�A |    3|\n",
      "|           Bilbao |    3|\n",
      "|           Geneva |    4|\n",
      "|         Le Havre |    1|\n",
      "|           Verona |    4|\n",
      "|             Kobe |    3|\n",
      "|            Solna |    8|\n",
      "|        Liverpool |    5|\n",
      "|          Gwangju |    3|\n",
      "+------------------+-----+\n",
      "only showing top 15 rows\n",
      "\n"
     ]
    }
   ],
   "source": [
    "df.groupBy('City').count().show(15,truncate=True)"
   ]
  },
  {
   "cell_type": "code",
   "execution_count": 44,
   "metadata": {},
   "outputs": [
    {
     "name": "stdout",
     "output_type": "stream",
     "text": [
      "+---------+--------------------+\n",
      "|Home_Team|max(Home_Team_Goals)|\n",
      "+---------+--------------------+\n",
      "| Paraguay|                 3.0|\n",
      "|   Russia|                 6.0|\n",
      "|  Senegal|                 3.0|\n",
      "|   Sweden|                 8.0|\n",
      "|  IR Iran|                 0.0|\n",
      "|   Turkey|                 7.0|\n",
      "|    Zaire|                 0.0|\n",
      "|     Iraq|                 1.0|\n",
      "|  Germany|                 8.0|\n",
      "|   France|                 7.0|\n",
      "|   Greece|                 2.0|\n",
      "|  Algeria|                 3.0|\n",
      "|     Togo|                 0.0|\n",
      "| Slovakia|                 3.0|\n",
      "|Argentina|                 6.0|\n",
      "|    Wales|                 2.0|\n",
      "|  Belgium|                 3.0|\n",
      "|   Angola|                 0.0|\n",
      "|  Ecuador|                 3.0|\n",
      "|    Ghana|                 2.0|\n",
      "+---------+--------------------+\n",
      "only showing top 20 rows\n",
      "\n"
     ]
    }
   ],
   "source": [
    "df.groupBy('Home_Team').max('Home_Team_Goals').dropna().show()"
   ]
  },
  {
   "cell_type": "code",
   "execution_count": 51,
   "metadata": {},
   "outputs": [
    {
     "name": "stdout",
     "output_type": "stream",
     "text": [
      "+--------------------+--------------------+\n",
      "|           Away_Team|sum(Away_Team_Goals)|\n",
      "+--------------------+--------------------+\n",
      "|\"rn\"\">Bosnia and ...|                 1.0|\n",
      "|\"rn\"\">Republic of...|                 8.0|\n",
      "|\"rn\"\">Serbia and ...|                 2.0|\n",
      "|\"rn\"\">Trinidad an...|                 0.0|\n",
      "|\"rn\"\">United Arab...|                 2.0|\n",
      "|             Algeria|                 9.0|\n",
      "|              Angola|                 1.0|\n",
      "|           Argentina|                22.0|\n",
      "|           Australia|                 4.0|\n",
      "|             Austria|                12.0|\n",
      "|             Belgium|                27.0|\n",
      "|             Bolivia|                 0.0|\n",
      "|              Brazil|                45.0|\n",
      "|            Bulgaria|                11.0|\n",
      "|            Cameroon|                 7.0|\n",
      "+--------------------+--------------------+\n",
      "only showing top 15 rows\n",
      "\n"
     ]
    }
   ],
   "source": [
    "df.groupBy('Away_Team').sum('Away_Team_Goals').orderBy('Away_Team').dropna().show(15,truncate=True)"
   ]
  },
  {
   "cell_type": "code",
   "execution_count": 49,
   "metadata": {},
   "outputs": [
    {
     "data": {
      "text/plain": [
       "DataFrame[Home_Team_By_Year_Stage: string, Final: bigint, First round: bigint, Group 1: bigint, Group 2: bigint, Group 3: bigint, Group 4: bigint, Group 5: bigint, Group 6: bigint, Group A: bigint, Group B: bigint, Group C: bigint, Group D: bigint, Group E: bigint, Group F: bigint, Group G: bigint, Group H: bigint, Match for third place: bigint, Play-off for third place: bigint, Preliminary round: bigint, Quarter-finals: bigint, Round of 16: bigint, Semi-finals: bigint, Third place: bigint, null: bigint]"
      ]
     },
     "execution_count": 49,
     "metadata": {},
     "output_type": "execute_result"
    }
   ],
   "source": [
    "from pyspark.sql.functions import col, struct\n",
    "\n",
    "df.withColumn(\"Home_Team_By_Year\", struct(\"Year\", \"Home_Team\")).crosstab(\"Home_Team_By_Year\", \"Stage\")"
   ]
  },
  {
   "cell_type": "code",
   "execution_count": 54,
   "metadata": {},
   "outputs": [
    {
     "name": "stdout",
     "output_type": "stream",
     "text": [
      "[10]\n"
     ]
    }
   ],
   "source": [
    "from pyspark import SparkContext\n",
    "\n",
    "sc = SparkContext.getOrCreate()\n",
    "\n",
    "lines = sc.textFile(\"WorldCups.csv\", 1)\n",
    "header = lines.first()\n",
    "content = lines.filter(lambda line: line != header)\n",
    "\n",
    "rdd = content.map(lambda line: (line.split(\",\"))).collect()\n",
    "\n",
    "rdd_len = content.map(lambda line: len(line.split(\",\"))).distinct().collect()\n",
    "\n",
    "print(rdd_len)"
   ]
  },
  {
   "cell_type": "code",
   "execution_count": 56,
   "metadata": {},
   "outputs": [],
   "source": [
    "from pyspark.sql.types import StructType\n",
    "from pyspark.sql.types import StructField\n",
    "from pyspark.sql.types import StringType,IntegerType\n",
    "\n",
    "schema = StructType([StructField('Year', StringType(), True),\n",
    "StructField('Country', StringType(),True),\n",
    "StructField('Winner', StringType(), True),\n",
    "StructField('Runners-Up', StringType(),True),\n",
    "StructField('Third', StringType(),True),\n",
    "StructField('Fourth', StringType(),True),\n",
    "StructField('GoalsScored', StringType(),True),\n",
    "StructField('QualifiedTeams', StringType(),True),\n",
    "StructField('MatchesPlayed', StringType(),True),\n",
    "StructField('Attendance', StringType(),True)])"
   ]
  },
  {
   "cell_type": "code",
   "execution_count": 66,
   "metadata": {},
   "outputs": [
    {
     "name": "stdout",
     "output_type": "stream",
     "text": [
      "---------- 1. Venues & goals scored ------------\n",
      "[('France', 171), ('Brazil', 171), ('Korea/Japan', 161), ('Germany', 147), ('Spain', 146), ('South Africa', 145), ('USA', 141), ('Switzerland', 140), ('Mexico', 132), ('Sweden', 126)]\n",
      "+------------+-----------+\n",
      "|Country     |GoalsScored|\n",
      "+------------+-----------+\n",
      "|France      |171        |\n",
      "|Brazil      |171        |\n",
      "|Korea/Japan |161        |\n",
      "|Germany     |147        |\n",
      "|Spain       |146        |\n",
      "|South Africa|145        |\n",
      "|USA         |141        |\n",
      "|Switzerland |140        |\n",
      "|Mexico      |132        |\n",
      "|Sweden      |126        |\n",
      "|Italy       |115        |\n",
      "|Argentina   |102        |\n",
      "|Germany     |97         |\n",
      "|Mexico      |95         |\n",
      "|England     |89         |\n",
      "|Chile       |89         |\n",
      "|Brazil      |88         |\n",
      "|France      |84         |\n",
      "|Uruguay     |70         |\n",
      "|Italy       |70         |\n",
      "+------------+-----------+\n",
      "\n",
      "+------------+-----------+\n",
      "|     Country|GoalsScored|\n",
      "+------------+-----------+\n",
      "|      France|        171|\n",
      "|      Brazil|        171|\n",
      "| Korea/Japan|        161|\n",
      "|     Germany|        147|\n",
      "|       Spain|        146|\n",
      "|South Africa|        145|\n",
      "|         USA|        141|\n",
      "| Switzerland|        140|\n",
      "|      Mexico|        132|\n",
      "|      Sweden|        126|\n",
      "+------------+-----------+\n",
      "\n"
     ]
    }
   ],
   "source": [
    "print(\"---------- 1. Venues & goals scored ------------\")\n",
    "\n",
    "# venue - hosted country with highest goals (From RDD)\n",
    "rdd1 = (content.filter(lambda line: line.split(\",\")[6] != \"NULL\")\n",
    ".map(lambda line: (line.split(\",\")[1], int(line.split(\",\")[6])))\n",
    ".takeOrdered(10, lambda x : -x[1]))\n",
    "print(rdd1)\n",
    "\n",
    "\n",
    "# Create data frame from the RDD\n",
    "df = spark.createDataFrame(rdd,schema)\n",
    "\n",
    "df=df.withColumn('GoalsScored',df['GoalsScored'].cast(IntegerType()))\n",
    "\n",
    "# venue - hosted country with highest goals (From DF)\n",
    "df.select(\"Country\",\"GoalsScored\").orderBy(\"GoalsScored\", ascending = False).show(20, truncate = False)\n",
    "\n",
    "# venue - hosted country with highest goals (From DF - SQL)\n",
    "df.createOrReplaceTempView(\"df_table\")\n",
    "spark.sql(\" SELECT Country,GoalsScored FROM df_table order by \"+ \n",
    "\"GoalsScored Desc Limit 10\").show()"
   ]
  },
  {
   "cell_type": "code",
   "execution_count": 73,
   "metadata": {},
   "outputs": [
    {
     "name": "stdout",
     "output_type": "stream",
     "text": [
      "-------------- 3. Details of years starting in 2010 ---------------\n",
      "+----+-------+-----------+\n",
      "|Year| Winner|      Third|\n",
      "+----+-------+-----------+\n",
      "|2010|  Spain|    Germany|\n",
      "|2014|Germany|Netherlands|\n",
      "+----+-------+-----------+\n",
      "\n",
      "+----+-------+-----------+\n",
      "|Year| Winner|      Third|\n",
      "+----+-------+-----------+\n",
      "|2010|  Spain|    Germany|\n",
      "|2014|Germany|Netherlands|\n",
      "+----+-------+-----------+\n",
      "\n"
     ]
    }
   ],
   "source": [
    "print(\"-------------- 2. Details of years starting in 2010 ---------------\")\n",
    "\n",
    "# using RDD\n",
    "years = [\"2010\", \"2011\", \"2012\", \"2013\", \"2014\"]\n",
    "(content.filter(lambda line: line.split(\",\")[0] in years)\n",
    ".map(lambda line: (line.split(\",\")[0],line.split(\",\")[2],line.split(\",\")[4])).collect())\n",
    "    \n",
    "# using DF\n",
    "df.select(\"Year\",\"Winner\",\"Third\").filter(df.Year.isin(years)).show()\n",
    "\n",
    "# using DF - SQL    \n",
    "spark.sql(\" SELECT Year,Winner,Third FROM df_table  WHERE \" + \" Year IN ('2010','2011','2012','2013','2014') \").show()"
   ]
  },
  {
   "cell_type": "code",
   "execution_count": 70,
   "metadata": {},
   "outputs": [
    {
     "name": "stdout",
     "output_type": "stream",
     "text": [
      "---------- 2. Year, venue country = Third Place ------------\n",
      "+----+-------+-------+\n",
      "|Year|Country|  Third|\n",
      "+----+-------+-------+\n",
      "|1962|  Chile|  Chile|\n",
      "|1990|  Italy|  Italy|\n",
      "|2006|Germany|Germany|\n",
      "+----+-------+-------+\n",
      "\n",
      "+----+-------+-------+\n",
      "|Year|Country|  Third|\n",
      "+----+-------+-------+\n",
      "|1962|  Chile|  Chile|\n",
      "|1990|  Italy|  Italy|\n",
      "|2006|Germany|Germany|\n",
      "+----+-------+-------+\n",
      "\n"
     ]
    }
   ],
   "source": [
    "print(\"---------- 3. Year, venue country = Third Place ------------\")\n",
    "\n",
    "# using RDD\n",
    "(content.filter(lambda line:line.split(\",\")[1]==line.split(\",\")[4])\n",
    " .map(lambda line: (line.split(\",\")[0],line.split(\",\")[1], line.split(\",\")[4]))\n",
    " .collect())\n",
    "    \n",
    "# using DF\n",
    "df.select(\"Year\",\"Country\",\"Third\").filter(df[\"Country\"]==df[\"Third\"]).show()\n",
    "\n",
    "# using DF - SQL\n",
    "spark.sql(\" SELECT Year,Country,Third FROM df_table where Country == Third order by Year\").show()"
   ]
  },
  {
   "cell_type": "code",
   "execution_count": 76,
   "metadata": {},
   "outputs": [
    {
     "name": "stdout",
     "output_type": "stream",
     "text": [
      "------------- 4. Max matches played -----------------\n",
      "+----+-------+-------+----------+-----------+-----------+-----------+--------------+-------------+----------+\n",
      "|Year|Country| Winner|Runners-Up|      Third|     Fourth|GoalsScored|QualifiedTeams|MatchesPlayed|Attendance|\n",
      "+----+-------+-------+----------+-----------+-----------+-----------+--------------+-------------+----------+\n",
      "|1998| France| France|    Brazil|    Croatia|Netherlands|        171|            32|           64| 2.785.100|\n",
      "|2014| Brazil|Germany| Argentina|Netherlands|     Brazil|        171|            32|           64| 3.386.810|\n",
      "+----+-------+-------+----------+-----------+-----------+-----------+--------------+-------------+----------+\n",
      "\n",
      "+----+-------+-------+----------+-----------+-----------+-----------+--------------+-------------+----------+\n",
      "|Year|Country| Winner|Runners-Up|      Third|     Fourth|GoalsScored|QualifiedTeams|MatchesPlayed|Attendance|\n",
      "+----+-------+-------+----------+-----------+-----------+-----------+--------------+-------------+----------+\n",
      "|1998| France| France|    Brazil|    Croatia|Netherlands|        171|            32|           64| 2.785.100|\n",
      "|2014| Brazil|Germany| Argentina|Netherlands|     Brazil|        171|            32|           64| 3.386.810|\n",
      "+----+-------+-------+----------+-----------+-----------+-----------+--------------+-------------+----------+\n",
      "\n"
     ]
    }
   ],
   "source": [
    "print(\"------------- 4. Max Goals Scored -----------------\")\n",
    "\n",
    "# Using RDD\n",
    "(content.filter(lambda line:line.split(\",\")[6] == \"171\")\n",
    ".map(lambda line: (line.split(\",\"))).collect())\n",
    "\n",
    "# using DF\n",
    "df=df.withColumn('GoalsScored',df['GoalsScored'].cast(IntegerType()))\n",
    "df.filter(df.GoalsScored == 171).show()\n",
    "\n",
    "# using DF - SQL\n",
    "spark.sql(\" Select * from df_table where GoalsScored in \" +\n",
    "\"(Select Max(GoalsScored) from df_table )\" ).show()"
   ]
  },
  {
   "cell_type": "code",
   "execution_count": 78,
   "metadata": {},
   "outputs": [
    {
     "name": "stdout",
     "output_type": "stream",
     "text": [
      "-------------- 4. 2010 world cup stats --------------\n",
      "+----+------------+------+-----------+-------+-------+-----------+--------------+-------------+----------+\n",
      "|Year|     Country|Winner| Runners-Up|  Third| Fourth|GoalsScored|QualifiedTeams|MatchesPlayed|Attendance|\n",
      "+----+------------+------+-----------+-------+-------+-----------+--------------+-------------+----------+\n",
      "|2010|South Africa| Spain|Netherlands|Germany|Uruguay|        145|            32|           64| 3.178.856|\n",
      "+----+------------+------+-----------+-------+-------+-----------+--------------+-------------+----------+\n",
      "\n",
      "+----+------------+------+-----------+-------+-------+-----------+--------------+-------------+----------+\n",
      "|Year|     Country|Winner| Runners-Up|  Third| Fourth|GoalsScored|QualifiedTeams|MatchesPlayed|Attendance|\n",
      "+----+------------+------+-----------+-------+-------+-----------+--------------+-------------+----------+\n",
      "|2010|South Africa| Spain|Netherlands|Germany|Uruguay|        145|            32|           64| 3.178.856|\n",
      "+----+------------+------+-----------+-------+-------+-----------+--------------+-------------+----------+\n",
      "\n"
     ]
    }
   ],
   "source": [
    "print(\"-------------- 4. 2010 world cup stats --------------\")\n",
    "# using RDD\n",
    "(content.filter(lambda line:line.split(\",\")[0]==\"2010\")\n",
    ".map(lambda line: (line.split(\",\"))).collect())\n",
    "# using DF\n",
    "df.filter(df.Year==\"2010\").show()\n",
    "# using DF - Sql\n",
    "spark.sql(\" Select * from df_table where Year == 2010 \").show()"
   ]
  },
  {
   "cell_type": "code",
   "execution_count": null,
   "metadata": {},
   "outputs": [],
   "source": []
  }
 ],
 "metadata": {
  "kernelspec": {
   "display_name": "Python 3",
   "language": "python",
   "name": "python3"
  },
  "language_info": {
   "codemirror_mode": {
    "name": "ipython",
    "version": 3
   },
   "file_extension": ".py",
   "mimetype": "text/x-python",
   "name": "python",
   "nbconvert_exporter": "python",
   "pygments_lexer": "ipython3",
   "version": "3.7.5"
  }
 },
 "nbformat": 4,
 "nbformat_minor": 2
}
